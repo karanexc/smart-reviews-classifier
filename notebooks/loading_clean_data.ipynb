{
 "cells": [
  {
   "cell_type": "code",
   "execution_count": 7,
   "id": "b5e01155",
   "metadata": {},
   "outputs": [
    {
     "data": {
      "text/html": [
       "<div>\n",
       "<style scoped>\n",
       "    .dataframe tbody tr th:only-of-type {\n",
       "        vertical-align: middle;\n",
       "    }\n",
       "\n",
       "    .dataframe tbody tr th {\n",
       "        vertical-align: top;\n",
       "    }\n",
       "\n",
       "    .dataframe thead th {\n",
       "        text-align: right;\n",
       "    }\n",
       "</style>\n",
       "<table border=\"1\" class=\"dataframe\">\n",
       "  <thead>\n",
       "    <tr style=\"text-align: right;\">\n",
       "      <th></th>\n",
       "      <th>label</th>\n",
       "      <th>text</th>\n",
       "    </tr>\n",
       "  </thead>\n",
       "  <tbody>\n",
       "    <tr>\n",
       "      <th>0</th>\n",
       "      <td>0</td>\n",
       "      <td>ÿÿÿ¿ÿÿþÿÿÿÿ` (&amp; \"(\u0000\u0018\u0000\u0010\u0000e«ûè\u001bl\u0011 K\u000fE\u0000\u0000\u0000\u0014\u0001@\u000f\u0003...</td>\n",
       "    </tr>\n",
       "    <tr>\n",
       "      <th>1</th>\n",
       "      <td>0</td>\n",
       "      <td>\u0000\u0000\u0000\u0000H\u0000</td>\n",
       "    </tr>\n",
       "    <tr>\n",
       "      <th>2</th>\n",
       "      <td>0</td>\n",
       "      <td>¨\u0005DI\"½´%R½¶Z\u0004«¬E^öê\u0004\u0000\u0000\u0014(\u0000\u0004I@\u0005\u0014ª\u0005J\u0014XéÐ\u0003@ \u0000ª-...</td>\n",
       "    </tr>\n",
       "    <tr>\n",
       "      <th>3</th>\n",
       "      <td>0</td>\n",
       "      <td>Gfª\u0012ª\u0000T\u0001@·ÛU\u0014¹öê¥%\u0015Dª* R\u0007f¦°\u0000­Øà\u0002R¨ËJ(</td>\n",
       "    </tr>\n",
       "    <tr>\n",
       "      <th>4</th>\n",
       "      <td>0</td>\n",
       "      <td>\u0005!R*\\t*IQ@ $$³\u0000\u0012¥Ö\u0005</td>\n",
       "    </tr>\n",
       "  </tbody>\n",
       "</table>\n",
       "</div>"
      ],
      "text/plain": [
       "   label                                               text\n",
       "0      0  ÿÿÿ¿ÿÿþÿÿÿÿ` (& \"(\u0000\u0018\u0000\u0010\u0000e«ûè\u001bl\u0011 K\u000fE\u0000\u0000\u0000\u0014\u0001@\u000f\u0003...\n",
       "1      0                                             \u0000\u0000\u0000\u0000H\u0000\n",
       "2      0  ¨\u0005DI\"½´%R½¶Z\u0004«¬E^öê\u0004\u0000\u0000\u0014(\u0000\u0004I@\u0005\u0014ª\u0005J\u0014XéÐ\u0003@ \u0000ª-...\n",
       "3      0        Gfª\u0012ª\u0000T\u0001@·ÛU\u0014¹öê¥%\u0015Dª* R\u0007f¦°\u0000­Øà\u0002R¨ËJ(\n",
       "4      0                             \u0005!R*\\t*IQ@ $$³\u0000\u0012¥Ö\u0005"
      ]
     },
     "execution_count": 7,
     "metadata": {},
     "output_type": "execute_result"
    }
   ],
   "source": [
    "import pandas as pd\n",
    "\n",
    "# Read the .txt file line by line\n",
    "with open(r'C:\\Users\\karan\\Desktop\\Amazon classification Project end to end\\smart-reviews-classifier\\data\\test.ft.txt.csv', 'r', encoding='latin1') as f:\n",
    "    lines = f.readlines()\n",
    "\n",
    "# Parse the lines into labels and texts\n",
    "data = []\n",
    "\n",
    "for line in lines:\n",
    "    if ' ' not in line:\n",
    "        continue  # Skip bad/malformed lines\n",
    "    \n",
    "    label = 1 if '__label__2' in line else 0\n",
    "    try:\n",
    "        text = line.split(' ', 1)[1].strip()\n",
    "        data.append((label, text))\n",
    "    except IndexError:\n",
    "        continue  # Just skip problematic lines\n",
    "\n",
    "\n",
    "# Create DataFrame\n",
    "df = pd.DataFrame(data, columns=['label', 'text'])\n",
    "df.head()\n"
   ]
  },
  {
   "cell_type": "code",
   "execution_count": null,
   "id": "de7fdedc",
   "metadata": {},
   "outputs": [],
   "source": [
    "df.shape"
   ]
  },
  {
   "cell_type": "code",
   "execution_count": null,
   "id": "af77e0ab",
   "metadata": {},
   "outputs": [],
   "source": []
  }
 ],
 "metadata": {
  "kernelspec": {
   "display_name": ".venv",
   "language": "python",
   "name": "python3"
  },
  "language_info": {
   "codemirror_mode": {
    "name": "ipython",
    "version": 3
   },
   "file_extension": ".py",
   "mimetype": "text/x-python",
   "name": "python",
   "nbconvert_exporter": "python",
   "pygments_lexer": "ipython3",
   "version": "3.12.7"
  }
 },
 "nbformat": 4,
 "nbformat_minor": 5
}
